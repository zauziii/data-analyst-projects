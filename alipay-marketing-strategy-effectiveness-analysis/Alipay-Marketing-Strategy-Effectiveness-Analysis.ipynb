{
 "cells": [
  {
   "cell_type": "markdown",
   "id": "ae038346-b6d5-42c6-aff9-07e33089e53e",
   "metadata": {},
   "source": [
    "# [A/B Test] Alipay Marketing Strategy Effectiveness Analysis"
   ]
  },
  {
   "cell_type": "markdown",
   "id": "8b2f8c5d-2676-4ca2-bfec-a3d3154bee04",
   "metadata": {},
   "source": [
    "Programmer: Zhi Zhou<br>\n",
    "Date：2025-06-28<p>"
   ]
  },
  {
   "cell_type": "markdown",
   "id": "b50fa420-d8f3-48f4-b64b-cc4fcae273be",
   "metadata": {},
   "source": [
    "A/B testing is commonly used to compare the advantages and disadvantages of different designs or operational plans to aid decision-making. This analysis uses an Alipay marketing campaign as an example, comparing the advertising effectiveness of two marketing strategies using the ad click-through rate (CTR) metric."
   ]
  },
  {
   "cell_type": "markdown",
   "id": "a3de4290-8116-4d7a-ba45-a11babff8d8b",
   "metadata": {},
   "source": [
    "## 1. Data Source"
   ]
  },
  {
   "cell_type": "markdown",
   "id": "f076aa7a-80cc-4310-9034-75365e6c418d",
   "metadata": {},
   "source": [
    "The dataset used in this analysis comes from Alibaba Cloud Tianchi: [阿里云天池 - Audience Expansion Dataset](https://tianchi.aliyun.com/dataset/50893)<br>\n",
    "This dataset contains three tables recording the activity of two Alipay marketing strategies:\n",
    "- `emb_tb_2.csv`: User feature dataset\n",
    "- `effect_tb.csv`: Ad click dataset\n",
    "- `seed_cand_tb.csv`: User type dataset<br>\n",
    "\n",
    "This analysis report primarily uses the ad click dataset, involving the following fields:\n",
    "- `dmp_id`: Marketing strategy ID (Not specified in the source data documentation. Based on the data, defined here as: 1: Control group, 2: Marketing Strategy 1, 3: Marketing Strategy 2)\n",
    "- `user_id`: Alipay user ID\n",
    "- `label`: Whether the user clicked the activity ad that day (0: Not clicked, 1: Clicked)<br>"
   ]
  },
  {
   "cell_type": "markdown",
   "id": "748c1afa-c05b-4826-b00d-ab83310f5ee1",
   "metadata": {},
   "source": [
    "## 2. Data Processing"
   ]
  },
  {
   "cell_type": "markdown",
   "id": "5adb9883-a355-49ca-84f0-429fdf18c6b8",
   "metadata": {},
   "source": [
    "### 2.1 Data Import and Cleaning"
   ]
  },
  {
   "cell_type": "code",
   "execution_count": 12,
   "id": "e8559d21-b682-4c10-bc33-212dfc7d38ad",
   "metadata": {},
   "outputs": [
    {
     "data": {
      "text/html": [
       "<div>\n",
       "<style scoped>\n",
       "    .dataframe tbody tr th:only-of-type {\n",
       "        vertical-align: middle;\n",
       "    }\n",
       "\n",
       "    .dataframe tbody tr th {\n",
       "        vertical-align: top;\n",
       "    }\n",
       "\n",
       "    .dataframe thead th {\n",
       "        text-align: right;\n",
       "    }\n",
       "</style>\n",
       "<table border=\"1\" class=\"dataframe\">\n",
       "  <thead>\n",
       "    <tr style=\"text-align: right;\">\n",
       "      <th></th>\n",
       "      <th>user_id</th>\n",
       "      <th>label</th>\n",
       "      <th>dmp_id</th>\n",
       "    </tr>\n",
       "  </thead>\n",
       "  <tbody>\n",
       "    <tr>\n",
       "      <th>0</th>\n",
       "      <td>1</td>\n",
       "      <td>0</td>\n",
       "      <td>1</td>\n",
       "    </tr>\n",
       "    <tr>\n",
       "      <th>1</th>\n",
       "      <td>1000004</td>\n",
       "      <td>0</td>\n",
       "      <td>1</td>\n",
       "    </tr>\n",
       "    <tr>\n",
       "      <th>2</th>\n",
       "      <td>1000004</td>\n",
       "      <td>0</td>\n",
       "      <td>2</td>\n",
       "    </tr>\n",
       "  </tbody>\n",
       "</table>\n",
       "</div>"
      ],
      "text/plain": [
       "   user_id  label  dmp_id\n",
       "0        1      0       1\n",
       "1  1000004      0       1\n",
       "2  1000004      0       2"
      ]
     },
     "execution_count": 12,
     "metadata": {},
     "output_type": "execute_result"
    }
   ],
   "source": [
    "# 1. Combine Tables\n",
    "\n",
    "# Import libraries\n",
    "import pandas as pd\n",
    "import numpy as np\n",
    "import matplotlib.pyplot as plt\n",
    "\n",
    "%matplotlib inline\n",
    "\n",
    "# load data\n",
    "data = pd.read_csv(r'C:\\Users\\zhizh\\Documents\\GitHub\\data-analyst-projects\\alipay-marketing-strategy-effectiveness-analysis\\data\\effect_tb.csv', header=None)\n",
    "data.columns = [\"dt\", \"user_id\", \"label\", \"dmp_id\"]\n",
    "# The log day attribute is not needed, delete this column\n",
    "data = data.drop(columns=\"dt\")\n",
    "data.head(3)"
   ]
  },
  {
   "cell_type": "code",
   "execution_count": 9,
   "id": "5377c3d5-5b99-444a-8de9-f628ae9fc2ec",
   "metadata": {},
   "outputs": [
    {
     "data": {
      "text/html": [
       "<div>\n",
       "<style scoped>\n",
       "    .dataframe tbody tr th:only-of-type {\n",
       "        vertical-align: middle;\n",
       "    }\n",
       "\n",
       "    .dataframe tbody tr th {\n",
       "        vertical-align: top;\n",
       "    }\n",
       "\n",
       "    .dataframe thead th {\n",
       "        text-align: right;\n",
       "    }\n",
       "</style>\n",
       "<table border=\"1\" class=\"dataframe\">\n",
       "  <thead>\n",
       "    <tr style=\"text-align: right;\">\n",
       "      <th></th>\n",
       "      <th>user_id</th>\n",
       "      <th>label</th>\n",
       "      <th>dmp_id</th>\n",
       "    </tr>\n",
       "  </thead>\n",
       "  <tbody>\n",
       "    <tr>\n",
       "      <th>count</th>\n",
       "      <td>2.645958e+06</td>\n",
       "      <td>2.645958e+06</td>\n",
       "      <td>2.645958e+06</td>\n",
       "    </tr>\n",
       "    <tr>\n",
       "      <th>mean</th>\n",
       "      <td>3.112995e+06</td>\n",
       "      <td>1.456297e-02</td>\n",
       "      <td>1.395761e+00</td>\n",
       "    </tr>\n",
       "    <tr>\n",
       "      <th>std</th>\n",
       "      <td>1.828262e+06</td>\n",
       "      <td>1.197952e-01</td>\n",
       "      <td>6.920480e-01</td>\n",
       "    </tr>\n",
       "    <tr>\n",
       "      <th>min</th>\n",
       "      <td>1.000000e+00</td>\n",
       "      <td>0.000000e+00</td>\n",
       "      <td>1.000000e+00</td>\n",
       "    </tr>\n",
       "    <tr>\n",
       "      <th>25%</th>\n",
       "      <td>1.526772e+06</td>\n",
       "      <td>0.000000e+00</td>\n",
       "      <td>1.000000e+00</td>\n",
       "    </tr>\n",
       "    <tr>\n",
       "      <th>50%</th>\n",
       "      <td>3.062184e+06</td>\n",
       "      <td>0.000000e+00</td>\n",
       "      <td>1.000000e+00</td>\n",
       "    </tr>\n",
       "    <tr>\n",
       "      <th>75%</th>\n",
       "      <td>4.721132e+06</td>\n",
       "      <td>0.000000e+00</td>\n",
       "      <td>2.000000e+00</td>\n",
       "    </tr>\n",
       "    <tr>\n",
       "      <th>max</th>\n",
       "      <td>6.265402e+06</td>\n",
       "      <td>1.000000e+00</td>\n",
       "      <td>3.000000e+00</td>\n",
       "    </tr>\n",
       "  </tbody>\n",
       "</table>\n",
       "</div>"
      ],
      "text/plain": [
       "            user_id         label        dmp_id\n",
       "count  2.645958e+06  2.645958e+06  2.645958e+06\n",
       "mean   3.112995e+06  1.456297e-02  1.395761e+00\n",
       "std    1.828262e+06  1.197952e-01  6.920480e-01\n",
       "min    1.000000e+00  0.000000e+00  1.000000e+00\n",
       "25%    1.526772e+06  0.000000e+00  1.000000e+00\n",
       "50%    3.062184e+06  0.000000e+00  1.000000e+00\n",
       "75%    4.721132e+06  0.000000e+00  2.000000e+00\n",
       "max    6.265402e+06  1.000000e+00  3.000000e+00"
      ]
     },
     "execution_count": 9,
     "metadata": {},
     "output_type": "execute_result"
    }
   ],
   "source": [
    "# table summary\n",
    "data.describe()"
   ]
  },
  {
   "cell_type": "code",
   "execution_count": 10,
   "id": "3368be39-3717-4cc8-850f-6a156e1e3431",
   "metadata": {},
   "outputs": [
    {
     "data": {
      "text/plain": [
       "(2645958, 3)"
      ]
     },
     "execution_count": 10,
     "metadata": {},
     "output_type": "execute_result"
    }
   ],
   "source": [
    "# 2. Duplicate Value Handling\n",
    "# shape of df\n",
    "data.shape"
   ]
  },
  {
   "cell_type": "code",
   "execution_count": 11,
   "id": "f6b33681-2dfc-4c2d-b336-cc072ecc402b",
   "metadata": {},
   "outputs": [
    {
     "data": {
      "text/plain": [
       "user_id    2410683\n",
       "label            2\n",
       "dmp_id           3\n",
       "dtype: int64"
      ]
     },
     "execution_count": 11,
     "metadata": {},
     "output_type": "execute_result"
    }
   ],
   "source": [
    "# distinct count of columns\n",
    "data.nunique()"
   ]
  },
  {
   "cell_type": "markdown",
   "id": "3346b5ff-1dac-4f41-868d-b6239878e452",
   "metadata": {},
   "source": [
    "The number of data rows does not match the number of unique users. Check for duplicate rows:"
   ]
  },
  {
   "cell_type": "code",
   "execution_count": 13,
   "id": "f88665f3-a4b7-460b-b1c8-9554be94a3eb",
   "metadata": {},
   "outputs": [
    {
     "data": {
      "text/html": [
       "<div>\n",
       "<style scoped>\n",
       "    .dataframe tbody tr th:only-of-type {\n",
       "        vertical-align: middle;\n",
       "    }\n",
       "\n",
       "    .dataframe tbody tr th {\n",
       "        vertical-align: top;\n",
       "    }\n",
       "\n",
       "    .dataframe thead th {\n",
       "        text-align: right;\n",
       "    }\n",
       "</style>\n",
       "<table border=\"1\" class=\"dataframe\">\n",
       "  <thead>\n",
       "    <tr style=\"text-align: right;\">\n",
       "      <th></th>\n",
       "      <th>user_id</th>\n",
       "      <th>label</th>\n",
       "      <th>dmp_id</th>\n",
       "    </tr>\n",
       "  </thead>\n",
       "  <tbody>\n",
       "    <tr>\n",
       "      <th>8529</th>\n",
       "      <td>1027</td>\n",
       "      <td>0</td>\n",
       "      <td>1</td>\n",
       "    </tr>\n",
       "    <tr>\n",
       "      <th>1485546</th>\n",
       "      <td>1027</td>\n",
       "      <td>0</td>\n",
       "      <td>1</td>\n",
       "    </tr>\n",
       "    <tr>\n",
       "      <th>1579415</th>\n",
       "      <td>1471</td>\n",
       "      <td>0</td>\n",
       "      <td>1</td>\n",
       "    </tr>\n",
       "    <tr>\n",
       "      <th>127827</th>\n",
       "      <td>1471</td>\n",
       "      <td>0</td>\n",
       "      <td>1</td>\n",
       "    </tr>\n",
       "    <tr>\n",
       "      <th>1779459</th>\n",
       "      <td>2468</td>\n",
       "      <td>0</td>\n",
       "      <td>1</td>\n",
       "    </tr>\n",
       "    <tr>\n",
       "      <th>...</th>\n",
       "      <td>...</td>\n",
       "      <td>...</td>\n",
       "      <td>...</td>\n",
       "    </tr>\n",
       "    <tr>\n",
       "      <th>1382121</th>\n",
       "      <td>6264633</td>\n",
       "      <td>0</td>\n",
       "      <td>1</td>\n",
       "    </tr>\n",
       "    <tr>\n",
       "      <th>2575140</th>\n",
       "      <td>6264940</td>\n",
       "      <td>0</td>\n",
       "      <td>1</td>\n",
       "    </tr>\n",
       "    <tr>\n",
       "      <th>1382245</th>\n",
       "      <td>6264940</td>\n",
       "      <td>0</td>\n",
       "      <td>1</td>\n",
       "    </tr>\n",
       "    <tr>\n",
       "      <th>1382306</th>\n",
       "      <td>6265082</td>\n",
       "      <td>0</td>\n",
       "      <td>3</td>\n",
       "    </tr>\n",
       "    <tr>\n",
       "      <th>2575171</th>\n",
       "      <td>6265082</td>\n",
       "      <td>0</td>\n",
       "      <td>3</td>\n",
       "    </tr>\n",
       "  </tbody>\n",
       "</table>\n",
       "<p>25966 rows × 3 columns</p>\n",
       "</div>"
      ],
      "text/plain": [
       "         user_id  label  dmp_id\n",
       "8529        1027      0       1\n",
       "1485546     1027      0       1\n",
       "1579415     1471      0       1\n",
       "127827      1471      0       1\n",
       "1779459     2468      0       1\n",
       "...          ...    ...     ...\n",
       "1382121  6264633      0       1\n",
       "2575140  6264940      0       1\n",
       "1382245  6264940      0       1\n",
       "1382306  6265082      0       3\n",
       "2575171  6265082      0       3\n",
       "\n",
       "[25966 rows x 3 columns]"
      ]
     },
     "execution_count": 13,
     "metadata": {},
     "output_type": "execute_result"
    }
   ],
   "source": [
    "data[data.duplicated(keep=False)].sort_values(by=[\"user_id\"])"
   ]
  },
  {
   "cell_type": "code",
   "execution_count": 15,
   "id": "6093dc95-4570-4637-acdd-e8d1d2569ae2",
   "metadata": {},
   "outputs": [
    {
     "data": {
      "text/html": [
       "<div>\n",
       "<style scoped>\n",
       "    .dataframe tbody tr th:only-of-type {\n",
       "        vertical-align: middle;\n",
       "    }\n",
       "\n",
       "    .dataframe tbody tr th {\n",
       "        vertical-align: top;\n",
       "    }\n",
       "\n",
       "    .dataframe thead th {\n",
       "        text-align: right;\n",
       "    }\n",
       "</style>\n",
       "<table border=\"1\" class=\"dataframe\">\n",
       "  <thead>\n",
       "    <tr style=\"text-align: right;\">\n",
       "      <th></th>\n",
       "      <th>user_id</th>\n",
       "      <th>label</th>\n",
       "      <th>dmp_id</th>\n",
       "    </tr>\n",
       "  </thead>\n",
       "  <tbody>\n",
       "  </tbody>\n",
       "</table>\n",
       "</div>"
      ],
      "text/plain": [
       "Empty DataFrame\n",
       "Columns: [user_id, label, dmp_id]\n",
       "Index: []"
      ]
     },
     "execution_count": 15,
     "metadata": {},
     "output_type": "execute_result"
    }
   ],
   "source": [
    "# drop duplicate\n",
    "data = data.drop_duplicates()\n",
    "\n",
    "# check if any duplicates left\n",
    "data[data.duplicated(keep=False)]"
   ]
  },
  {
   "cell_type": "code",
   "execution_count": 19,
   "id": "5e5a1ffd-a117-43de-abe3-4327d8c7631d",
   "metadata": {},
   "outputs": [
    {
     "name": "stdout",
     "output_type": "stream",
     "text": [
      "<class 'pandas.core.frame.DataFrame'>\n",
      "Index: 2632975 entries, 0 to 2645957\n",
      "Data columns (total 3 columns):\n",
      " #   Column   Non-Null Count    Dtype\n",
      "---  ------   --------------    -----\n",
      " 0   user_id  2632975 non-null  int64\n",
      " 1   label    2632975 non-null  int64\n",
      " 2   dmp_id   2632975 non-null  int64\n",
      "dtypes: int64(3)\n",
      "memory usage: 80.4 MB\n"
     ]
    }
   ],
   "source": [
    "# 3. Null Value Handling\n",
    "# check null values\n",
    "data.info(show_counts=True)"
   ]
  },
  {
   "cell_type": "markdown",
   "id": "781d5d03-339f-4305-abf9-45ef546d13bf",
   "metadata": {},
   "source": [
    "The dataset has no null values and requires no handling."
   ]
  },
  {
   "cell_type": "code",
   "execution_count": 20,
   "id": "5b752388-a48d-4aeb-b43f-0b9d2b533fe4",
   "metadata": {},
   "outputs": [
    {
     "data": {
      "text/html": [
       "<div>\n",
       "<style scoped>\n",
       "    .dataframe tbody tr th:only-of-type {\n",
       "        vertical-align: middle;\n",
       "    }\n",
       "\n",
       "    .dataframe tbody tr th {\n",
       "        vertical-align: top;\n",
       "    }\n",
       "\n",
       "    .dataframe thead th {\n",
       "        text-align: right;\n",
       "    }\n",
       "</style>\n",
       "<table border=\"1\" class=\"dataframe\">\n",
       "  <thead>\n",
       "    <tr style=\"text-align: right;\">\n",
       "      <th>label</th>\n",
       "      <th>0</th>\n",
       "      <th>1</th>\n",
       "      <th>All</th>\n",
       "    </tr>\n",
       "    <tr>\n",
       "      <th>dmp_id</th>\n",
       "      <th></th>\n",
       "      <th></th>\n",
       "      <th></th>\n",
       "    </tr>\n",
       "  </thead>\n",
       "  <tbody>\n",
       "    <tr>\n",
       "      <th>1</th>\n",
       "      <td>1881745</td>\n",
       "      <td>23918</td>\n",
       "      <td>1905663</td>\n",
       "    </tr>\n",
       "    <tr>\n",
       "      <th>2</th>\n",
       "      <td>404811</td>\n",
       "      <td>6296</td>\n",
       "      <td>411107</td>\n",
       "    </tr>\n",
       "    <tr>\n",
       "      <th>3</th>\n",
       "      <td>307923</td>\n",
       "      <td>8282</td>\n",
       "      <td>316205</td>\n",
       "    </tr>\n",
       "    <tr>\n",
       "      <th>All</th>\n",
       "      <td>2594479</td>\n",
       "      <td>38496</td>\n",
       "      <td>2632975</td>\n",
       "    </tr>\n",
       "  </tbody>\n",
       "</table>\n",
       "</div>"
      ],
      "text/plain": [
       "label         0      1      All\n",
       "dmp_id                         \n",
       "1       1881745  23918  1905663\n",
       "2        404811   6296   411107\n",
       "3        307923   8282   316205\n",
       "All     2594479  38496  2632975"
      ]
     },
     "execution_count": 20,
     "metadata": {},
     "output_type": "execute_result"
    }
   ],
   "source": [
    "# 4. Outlier Check\n",
    "data.pivot_table(index=\"dmp_id\", columns=\"label\", values=\"user_id\",\n",
    "                 aggfunc=\"count\", margins=True)"
   ]
  },
  {
   "cell_type": "markdown",
   "id": "af704c72-68ad-4e9b-9bbf-e68f6c2ea9ea",
   "metadata": {},
   "source": [
    "No abnormal values found in attribute fields; no processing needed."
   ]
  },
  {
   "cell_type": "code",
   "execution_count": 21,
   "id": "e77a1a81-275c-4609-946e-c96ba3f3c828",
   "metadata": {},
   "outputs": [
    {
     "data": {
      "text/plain": [
       "user_id    int64\n",
       "label      int64\n",
       "dmp_id     int64\n",
       "dtype: object"
      ]
     },
     "execution_count": 21,
     "metadata": {},
     "output_type": "execute_result"
    }
   ],
   "source": [
    "# 5. Data Types\n",
    "data.dtypes"
   ]
  },
  {
   "cell_type": "markdown",
   "id": "e2ff2832-0f14-43c3-8af8-b42e17331afa",
   "metadata": {},
   "source": [
    "Data types are normal; no processing needed."
   ]
  },
  {
   "cell_type": "markdown",
   "id": "2ecddd51-7dc3-429d-822e-8b9c23660571",
   "metadata": {},
   "source": [
    "### 2.2 Sample Size Test"
   ]
  },
  {
   "cell_type": "markdown",
   "id": "5f4712b3-8859-462b-99c8-fd76740a8100",
   "metadata": {},
   "source": [
    "Before conducting the A/B test, we need to check if the sample size meets the minimum required for the experiment.<br>\n",
    "We use Evan Miller's sample size calculator: [Sample Size Calculator](https://www.evanmiller.org/ab-testing/sample-size.html)<br>\n",
    "First, we need to set the baseline click rate and the minimum detectable lift. We set the control group's click rate as the baseline."
   ]
  },
  {
   "cell_type": "code",
   "execution_count": 23,
   "id": "112ae93f-42a4-4608-9a75-21b202eb9b9a",
   "metadata": {},
   "outputs": [
    {
     "data": {
      "text/plain": [
       "np.float64(0.012551012429794775)"
      ]
     },
     "execution_count": 23,
     "metadata": {},
     "output_type": "execute_result"
    }
   ],
   "source": [
    "# click rate of control group\n",
    "data[data[\"dmp_id\"] == 1][\"label\"].mean()"
   ]
  },
  {
   "cell_type": "markdown",
   "id": "33a60437-1c60-4b5f-98d4-aeea65e855e5",
   "metadata": {},
   "source": [
    "The control group click rate is 1.26%. Assuming we want the new marketing strategy to increase the ad click rate by at least 1 percentage point, the calculated minimum required sample size is: 2,167."
   ]
  },
  {
   "cell_type": "code",
   "execution_count": 43,
   "id": "9c6e5cfd-20a1-4247-bcdd-627f5decafa0",
   "metadata": {},
   "outputs": [
    {
     "data": {
      "image/png": "[encoded data removed]",
      "text/plain": [
       "<IPython.core.display.Image object>"
      ]
     },
     "execution_count": 43,
     "metadata": {
      "image/png": {
       "height": 420,
       "width": 640
      }
     },
     "output_type": "execute_result"
    }
   ],
   "source": [
    "from IPython.display import Image\n",
    "Image(filename = 'C:/Users/zhizh/Documents/GitHub/data-analyst-projects/alipay-marketing-strategy-effectiveness-analysis/image/SimpleSizeCalculate.png',\n",
    "      width=640, \n",
    "      height=420)"
   ]
  },
  {
   "cell_type": "code",
   "execution_count": 44,
   "id": "10bfe33a-03e8-4ca8-867a-d9d755b86eff",
   "metadata": {},
   "outputs": [
    {
     "data": {
      "text/plain": [
       "dmp_id\n",
       "1    1905663\n",
       "2     411107\n",
       "3     316205\n",
       "Name: count, dtype: int64"
      ]
     },
     "execution_count": 44,
     "metadata": {},
     "output_type": "execute_result"
    }
   ],
   "source": [
    "# sample size of campaigns\n",
    "data[\"dmp_id\"].value_counts()"
   ]
  },
  {
   "cell_type": "markdown",
   "id": "bfb2411b-0f0c-4509-b091-60a72dbb11c8",
   "metadata": {},
   "source": [
    "The sample sizes for the two marketing campaigns are 411,107 and 316,205, satisfying the minimum sample size requirement."
   ]
  },
  {
   "cell_type": "markdown",
   "id": "5eada929-3655-46c2-ac26-09910d1a2fa2",
   "metadata": {},
   "source": [
    "## 3. Hypothesis Testing"
   ]
  },
  {
   "cell_type": "markdown",
   "id": "76a8e137-e13d-4c52-b76d-92866d8abd76",
   "metadata": {},
   "source": [
    "First, observe the click rates of the experimental groups."
   ]
  },
  {
   "cell_type": "code",
   "execution_count": 45,
   "id": "2a3f65f6-50f1-4431-aae4-d4c994794424",
   "metadata": {},
   "outputs": [
    {
     "name": "stdout",
     "output_type": "stream",
     "text": [
      "Control Group:  0.012551012429794775\n",
      "Marketing Strategy 1:  0.015314747742072015\n",
      "Marketing Strategy 2:  0.026191869198779274\n"
     ]
    }
   ],
   "source": [
    "# click rate of groups\n",
    "print(\"Control Group: \", data[data[\"dmp_id\"] == 1][\"label\"].mean())\n",
    "print(\"Marketing Strategy 1: \", data[data[\"dmp_id\"] == 2][\"label\"].mean())\n",
    "print(\"Marketing Strategy 2: \", data[data[\"dmp_id\"] == 3][\"label\"].mean())"
   ]
  },
  {
   "cell_type": "markdown",
   "id": "733585be-2c14-40dc-87ca-c18109f326b0",
   "metadata": {},
   "source": [
    "It can be seen that both Strategy 1 and Strategy 2 show improvements in click rate compared to the control group.\n",
    "Strategy 1 increased by 0.27 percentage points (1.53% - 1.26%), Strategy 2 increased by 1.36 percentage points (2.62% - 1.26%). Only Strategy 2 meets our earlier requirement for a minimum click rate increase.\n",
    "\n",
    "Next, we need to conduct a hypothesis test to see if the increase in Strategy 2's click rate is statistically significant.\n",
    "\n",
    "a. Null Hypothesis and Alternative Hypothesis\n",
    "Let p1 be the click rate of the control group and p2 be the click rate of Strategy 2.\n",
    "\n",
    "Null Hypothesis H0: p1 ≥ p2\n",
    "\n",
    "Alternative Hypothesis H1: p1 < p2\n",
    "\n",
    "b. Distribution Type, Test Type, and Significance Level\n",
    "The sample follows a binomial distribution. It's an independent two-sample test with sample size n > 30. The population mean and standard deviation are unknown, so a Z-test is used. The significance level α is set to 0.05."
   ]
  },
  {
   "cell_type": "markdown",
   "id": "4f357340-e8c9-4723-ac55-9515d2e3ee09",
   "metadata": {},
   "source": [
    "### 3.1 Method 1: Formula Calculation"
   ]
  },
  {
   "cell_type": "code",
   "execution_count": 47,
   "id": "4938587c-15ea-4211-8e3f-91dd8ef471b8",
   "metadata": {},
   "outputs": [
    {
     "name": "stdout",
     "output_type": "stream",
     "text": [
      "Combined click rate:  0.014492310074225832\n"
     ]
    },
    {
     "name": "stderr",
     "output_type": "stream",
     "text": [
      "C:\\Users\\zhizh\\AppData\\Local\\Temp\\ipykernel_69388\\998000614.py:6: UserWarning: Boolean Series key will be reindexed to match DataFrame index.\n",
      "  c_old = len(data[data.dmp_id ==1][data.label == 1]) # Warning expected\n",
      "C:\\Users\\zhizh\\AppData\\Local\\Temp\\ipykernel_69388\\998000614.py:7: UserWarning: Boolean Series key will be reindexed to match DataFrame index.\n",
      "  c_new = len(data[data.dmp_id ==3][data.label == 1]) # Warning expected\n"
     ]
    }
   ],
   "source": [
    "# Number of users\n",
    "n_old = len(data[data.dmp_id == 1])  # Control group\n",
    "n_new = len(data[data.dmp_id == 3])  # Strategy 2\n",
    "\n",
    "# Number of clicks\n",
    "c_old = len(data[data.dmp_id ==1][data.label == 1]) # Warning expected\n",
    "c_new = len(data[data.dmp_id ==3][data.label == 1]) # Warning expected\n",
    "\n",
    "# Calculate click rate\n",
    "r_old = c_old / n_old\n",
    "r_new = c_new / n_new\n",
    "\n",
    "# Combined click rate\n",
    "r = (c_old + c_new) / (n_old + n_new)\n",
    "\n",
    "print(\"Combined click rate: \", r)"
   ]
  },
  {
   "cell_type": "code",
   "execution_count": 48,
   "id": "52d35b31-1a44-4f34-82b4-96903e1e55a9",
   "metadata": {},
   "outputs": [
    {
     "name": "stdout",
     "output_type": "stream",
     "text": [
      "Test statistic z:  -59.44168632985996\n"
     ]
    }
   ],
   "source": [
    "# Calculate test statistic z\n",
    "z = (r_old - r_new) / np.sqrt(r * (1 - r) * (1/n_old + 1/n_new))\n",
    "\n",
    "print(\"Test statistic z: \", z)"
   ]
  },
  {
   "cell_type": "code",
   "execution_count": 49,
   "id": "26f1a75a-b464-431f-920a-078ae11a5881",
   "metadata": {},
   "outputs": [
    {
     "data": {
      "text/plain": [
       "np.float64(-1.6448536269514729)"
      ]
     },
     "execution_count": 49,
     "metadata": {},
     "output_type": "execute_result"
    }
   ],
   "source": [
    "# Find z quantile for α=0.05\n",
    "from scipy.stats import norm\n",
    "z_alpha = norm.ppf(0.05)\n",
    "z_alpha"
   ]
  },
  {
   "cell_type": "markdown",
   "id": "59feb693-56fc-48f9-96a6-cef404b76d20",
   "metadata": {},
   "source": [
    "z_alpha = -1.64, Test statistic z = -59.44. This is a left-tailed test, rejection region is (z < z_alpha).\n",
    "\n",
    "Therefore, we can conclude: The null hypothesis is rejected. The increase in Strategy 2's click rate is statistically significant."
   ]
  },
  {
   "cell_type": "markdown",
   "id": "56617eae-0b28-4411-be5b-12cd8e4d40c8",
   "metadata": {},
   "source": [
    "### 3.2 Method 2: Python Function Calculation"
   ]
  },
  {
   "cell_type": "markdown",
   "id": "8d4d8559-3bc2-4947-836f-361f36bb5cbc",
   "metadata": {},
   "source": [
    "Directly calculate the z-score and p-value using Python's statsmodels package."
   ]
  },
  {
   "cell_type": "code",
   "execution_count": 52,
   "id": "7ea3419f-b1c6-4412-9db4-8919d2bd3ac1",
   "metadata": {},
   "outputs": [
    {
     "name": "stdout",
     "output_type": "stream",
     "text": [
      "Test statistic z:  -59.44168632985996 , p-value:  0.0\n"
     ]
    }
   ],
   "source": [
    "import statsmodels.stats.proportion as sp\n",
    "z_score, p = sp.proportions_ztest([c_old, c_new], [n_old, n_new], alternative='smaller')\n",
    "print(\"Test statistic z: \", z_score, \", p-value: \", p)"
   ]
  },
  {
   "cell_type": "markdown",
   "id": "fcefcd2f-9824-4968-a845-7e4dd7f6b53e",
   "metadata": {},
   "source": [
    "The p-value is approximately 0, p < α. Conclusion same as Method 1: Reject the null hypothesis.\n",
    "\n",
    "As a supplement, let's test if the increase in Strategy 1's click rate is significant."
   ]
  },
  {
   "cell_type": "code",
   "execution_count": 53,
   "id": "6dab0f20-97f6-456c-9ce7-56c36df66a42",
   "metadata": {},
   "outputs": [
    {
     "name": "stdout",
     "output_type": "stream",
     "text": [
      "Test statistic z:  -14.165873564308429 , p-value:  7.450121742737582e-46\n"
     ]
    }
   ],
   "source": [
    "# Strategy 1 test\n",
    "z_score, p = sp.proportions_ztest([c_old, len(data[(data.dmp_id ==2) & (data.label == 1)])], [n_old, len(data[data.dmp_id ==2])], alternative='smaller') # Warning expected\n",
    "print(\"Test statistic z: \", z_score, \", p-value: \", p)"
   ]
  },
  {
   "cell_type": "markdown",
   "id": "d814c60f-625f-47fb-b7fa-7e7f59ea52bf",
   "metadata": {},
   "source": [
    "The p-value is approximately 7.45e-46, p < α, meaning the increase is statistically significant. However, because we previously set a requirement for the minimum desired increase in click rate (1 percentage point), and Strategy 1 only increased by 0.27 percentage points, we still only choose Strategy 2 for promotion."
   ]
  },
  {
   "cell_type": "markdown",
   "id": "ea15dfa3-c83e-46c3-b0f0-d5b4bc531f51",
   "metadata": {},
   "source": [
    "## 4. Conclusion"
   ]
  },
  {
   "cell_type": "markdown",
   "id": "dec23b44-dc60-4354-a49a-b04c491b895c",
   "metadata": {},
   "source": [
    "In summary, among the two marketing strategies, Strategy 2 has a significant effect on improving the ad click-through rate. Compared to the control group, its click rate increased by nearly double. Therefore, Strategy 2 should be chosen for promotion between the two marketing strategies."
   ]
  },
  {
   "cell_type": "markdown",
   "id": "2f5b3f8a-3243-4a72-8ff7-a41fefc4512c",
   "metadata": {},
   "source": [
    "## References"
   ]
  },
  {
   "cell_type": "markdown",
   "id": "f2045e08-12a4-4d7a-b5e0-ad6fb9604146",
   "metadata": {},
   "source": [
    "- [Analyse ab testing results](https://towardsdatascience.com/ab-testing-with-python-e5964dd66143/)"
   ]
  },
  {
   "cell_type": "code",
   "execution_count": 6,
   "id": "d2653b9b-6924-4a3d-8cb2-40b1be4975d9",
   "metadata": {},
   "outputs": [],
   "source": [
    "%notebook \"C:/Users/zhizh/Documents/GitHub/data-analyst-projects/alipay-marketing-strategy-effectiveness-analysis/alipay-marketing-strategy-effectiveness-analysis.ipynb\"    "
   ]
  }
 ],
 "metadata": {
  "kernelspec": {
   "display_name": "Python [conda env:base] *",
   "language": "python",
   "name": "conda-base-py"
  },
  "language_info": {
   "codemirror_mode": {
    "name": "ipython",
    "version": 3
   },
   "file_extension": ".py",
   "mimetype": "text/x-python",
   "name": "python",
   "nbconvert_exporter": "python",
   "pygments_lexer": "ipython3",
   "version": "3.13.5"
  }
 },
 "nbformat": 4,
 "nbformat_minor": 5
}
